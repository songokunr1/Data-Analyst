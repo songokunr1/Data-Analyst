{
  "nbformat": 4,
  "nbformat_minor": 0,
  "metadata": {
    "colab": {
      "name": "Titanic.ipynb",
      "provenance": [],
      "toc_visible": true,
      "authorship_tag": "ABX9TyNl/ZMpzKzpJal4j9Zi+LFb",
      "include_colab_link": true
    },
    "kernelspec": {
      "name": "python3",
      "display_name": "Python 3"
    }
  },
  "cells": [
    {
      "cell_type": "markdown",
      "metadata": {
        "id": "view-in-github",
        "colab_type": "text"
      },
      "source": [
        "<a href=\"https://colab.research.google.com/github/songokunr1/Data-Analyst/blob/master/Titanic.ipynb\" target=\"_parent\"><img src=\"https://colab.research.google.com/assets/colab-badge.svg\" alt=\"Open In Colab\"/></a>"
      ]
    },
    {
      "cell_type": "code",
      "metadata": {
        "id": "MptIMz505Eby"
      },
      "source": [
        "import numpy as np\n",
        "import pandas as pd\n",
        "\n",
        "# Preprocessing\n",
        "from sklearn.preprocessing import LabelEncoder\n",
        "from sklearn.model_selection import train_test_split\n",
        "\n",
        "# KNN\n",
        "from sklearn.neighbors import KNeighborsClassifier\n",
        "\n",
        "# Miary jakości\n",
        "from sklearn.metrics import precision_score\n",
        "\n",
        "# Przechowywanie modeli\n",
        "import pickle\n",
        "\n",
        "# tree\n",
        "from sklearn.tree import DecisionTreeClassifier"
      ],
      "execution_count": null,
      "outputs": []
    },
    {
      "cell_type": "code",
      "metadata": {
        "id": "YI1QlOK_AeB3"
      },
      "source": [
        "titanic = pd.read_csv('https://raw.githubusercontent.com/songokunr1/Data-Analyst/master/titanic.csv')"
      ],
      "execution_count": null,
      "outputs": []
    },
    {
      "cell_type": "code",
      "metadata": {
        "id": "WjzqUXfyAg-3",
        "outputId": "d0721948-378c-4798-b96e-649d1ae86ff2",
        "colab": {
          "base_uri": "https://localhost:8080/",
          "height": 137
        }
      },
      "source": [
        "titanic.head(3)"
      ],
      "execution_count": null,
      "outputs": [
        {
          "output_type": "execute_result",
          "data": {
            "text/html": [
              "<div>\n",
              "<style scoped>\n",
              "    .dataframe tbody tr th:only-of-type {\n",
              "        vertical-align: middle;\n",
              "    }\n",
              "\n",
              "    .dataframe tbody tr th {\n",
              "        vertical-align: top;\n",
              "    }\n",
              "\n",
              "    .dataframe thead th {\n",
              "        text-align: right;\n",
              "    }\n",
              "</style>\n",
              "<table border=\"1\" class=\"dataframe\">\n",
              "  <thead>\n",
              "    <tr style=\"text-align: right;\">\n",
              "      <th></th>\n",
              "      <th>PassengerId</th>\n",
              "      <th>Survived</th>\n",
              "      <th>Pclass</th>\n",
              "      <th>Name</th>\n",
              "      <th>Sex</th>\n",
              "      <th>Age</th>\n",
              "      <th>SibSp</th>\n",
              "      <th>Parch</th>\n",
              "      <th>Ticket</th>\n",
              "      <th>Fare</th>\n",
              "      <th>Cabin</th>\n",
              "      <th>Embarked</th>\n",
              "    </tr>\n",
              "  </thead>\n",
              "  <tbody>\n",
              "    <tr>\n",
              "      <th>0</th>\n",
              "      <td>1</td>\n",
              "      <td>0</td>\n",
              "      <td>3</td>\n",
              "      <td>Braund, Mr. Owen Harris</td>\n",
              "      <td>male</td>\n",
              "      <td>22.0</td>\n",
              "      <td>1</td>\n",
              "      <td>0</td>\n",
              "      <td>A/5 21171</td>\n",
              "      <td>7.2500</td>\n",
              "      <td>NaN</td>\n",
              "      <td>S</td>\n",
              "    </tr>\n",
              "    <tr>\n",
              "      <th>1</th>\n",
              "      <td>2</td>\n",
              "      <td>1</td>\n",
              "      <td>1</td>\n",
              "      <td>Cumings, Mrs. John Bradley (Florence Briggs Th...</td>\n",
              "      <td>female</td>\n",
              "      <td>38.0</td>\n",
              "      <td>1</td>\n",
              "      <td>0</td>\n",
              "      <td>PC 17599</td>\n",
              "      <td>71.2833</td>\n",
              "      <td>C85</td>\n",
              "      <td>C</td>\n",
              "    </tr>\n",
              "    <tr>\n",
              "      <th>2</th>\n",
              "      <td>3</td>\n",
              "      <td>1</td>\n",
              "      <td>3</td>\n",
              "      <td>Heikkinen, Miss. Laina</td>\n",
              "      <td>female</td>\n",
              "      <td>26.0</td>\n",
              "      <td>0</td>\n",
              "      <td>0</td>\n",
              "      <td>STON/O2. 3101282</td>\n",
              "      <td>7.9250</td>\n",
              "      <td>NaN</td>\n",
              "      <td>S</td>\n",
              "    </tr>\n",
              "  </tbody>\n",
              "</table>\n",
              "</div>"
            ],
            "text/plain": [
              "   PassengerId  Survived  Pclass  ...     Fare Cabin  Embarked\n",
              "0            1         0       3  ...   7.2500   NaN         S\n",
              "1            2         1       1  ...  71.2833   C85         C\n",
              "2            3         1       3  ...   7.9250   NaN         S\n",
              "\n",
              "[3 rows x 12 columns]"
            ]
          },
          "metadata": {
            "tags": []
          },
          "execution_count": 62
        }
      ]
    },
    {
      "cell_type": "code",
      "metadata": {
        "id": "yszoM8Sjr4NC",
        "outputId": "5d0638da-e58e-4124-bc6b-c70cc4668466",
        "colab": {
          "base_uri": "https://localhost:8080/",
          "height": 247
        }
      },
      "source": [
        "titanic[titanic['Survived'] == 0].info()"
      ],
      "execution_count": null,
      "outputs": [
        {
          "output_type": "stream",
          "text": [
            "<class 'pandas.core.frame.DataFrame'>\n",
            "Int64Index: 549 entries, 0 to 890\n",
            "Data columns (total 8 columns):\n",
            "Survived    549 non-null int64\n",
            "Pclass      549 non-null int64\n",
            "Sex         549 non-null object\n",
            "Age         424 non-null float64\n",
            "SibSp       549 non-null int64\n",
            "Parch       549 non-null int64\n",
            "Fare        549 non-null float64\n",
            "Embarked    549 non-null object\n",
            "dtypes: float64(2), int64(4), object(2)\n",
            "memory usage: 38.6+ KB\n"
          ],
          "name": "stdout"
        }
      ]
    },
    {
      "cell_type": "code",
      "metadata": {
        "id": "AFtlYqTxsQQB",
        "outputId": "1c3c6eed-1d7e-4a5d-8ea3-be53ca62de05",
        "colab": {
          "base_uri": "https://localhost:8080/",
          "height": 247
        }
      },
      "source": [
        "titanic[titanic['Survived'] == 1].info()"
      ],
      "execution_count": null,
      "outputs": [
        {
          "output_type": "stream",
          "text": [
            "<class 'pandas.core.frame.DataFrame'>\n",
            "Int64Index: 342 entries, 1 to 889\n",
            "Data columns (total 8 columns):\n",
            "Survived    342 non-null int64\n",
            "Pclass      342 non-null int64\n",
            "Sex         342 non-null object\n",
            "Age         290 non-null float64\n",
            "SibSp       342 non-null int64\n",
            "Parch       342 non-null int64\n",
            "Fare        342 non-null float64\n",
            "Embarked    340 non-null object\n",
            "dtypes: float64(2), int64(4), object(2)\n",
            "memory usage: 24.0+ KB\n"
          ],
          "name": "stdout"
        }
      ]
    },
    {
      "cell_type": "code",
      "metadata": {
        "id": "NhN15ngwAt_j",
        "outputId": "63933416-fe4f-41ff-f1c5-a7e8101ab02d",
        "colab": {
          "base_uri": "https://localhost:8080/",
          "height": 318
        }
      },
      "source": [
        "titanic.info()"
      ],
      "execution_count": null,
      "outputs": [
        {
          "output_type": "stream",
          "text": [
            "<class 'pandas.core.frame.DataFrame'>\n",
            "RangeIndex: 891 entries, 0 to 890\n",
            "Data columns (total 12 columns):\n",
            "PassengerId    891 non-null int64\n",
            "Survived       891 non-null int64\n",
            "Pclass         891 non-null int64\n",
            "Name           891 non-null object\n",
            "Sex            891 non-null object\n",
            "Age            714 non-null float64\n",
            "SibSp          891 non-null int64\n",
            "Parch          891 non-null int64\n",
            "Ticket         891 non-null object\n",
            "Fare           891 non-null float64\n",
            "Cabin          204 non-null object\n",
            "Embarked       889 non-null object\n",
            "dtypes: float64(2), int64(5), object(5)\n",
            "memory usage: 83.7+ KB\n"
          ],
          "name": "stdout"
        }
      ]
    },
    {
      "cell_type": "code",
      "metadata": {
        "id": "W3HDiBy8AyAA"
      },
      "source": [
        "titanic.drop(['Cabin', 'PassengerId', 'Name', 'Ticket'], axis=1, inplace=True) #axis =0 wiersze 1->kolumny"
      ],
      "execution_count": null,
      "outputs": []
    },
    {
      "cell_type": "code",
      "metadata": {
        "id": "u-rrDG0EA3Ix"
      },
      "source": [
        "titanic_cleaned = titanic.drop_duplicates()"
      ],
      "execution_count": null,
      "outputs": []
    },
    {
      "cell_type": "code",
      "metadata": {
        "id": "O0n_JhOWB44j",
        "outputId": "188163bf-1eb9-469c-b57e-12c4fbc3654b",
        "colab": {
          "base_uri": "https://localhost:8080/",
          "height": 247
        }
      },
      "source": [
        "titanic_cleaned.info()"
      ],
      "execution_count": null,
      "outputs": [
        {
          "output_type": "stream",
          "text": [
            "<class 'pandas.core.frame.DataFrame'>\n",
            "Int64Index: 780 entries, 0 to 890\n",
            "Data columns (total 8 columns):\n",
            "Survived    780 non-null int64\n",
            "Pclass      780 non-null int64\n",
            "Sex         780 non-null object\n",
            "Age         676 non-null float64\n",
            "SibSp       780 non-null int64\n",
            "Parch       780 non-null int64\n",
            "Fare        780 non-null float64\n",
            "Embarked    778 non-null object\n",
            "dtypes: float64(2), int64(4), object(2)\n",
            "memory usage: 54.8+ KB\n"
          ],
          "name": "stdout"
        }
      ]
    },
    {
      "cell_type": "code",
      "metadata": {
        "id": "YV-mmarSCFpL",
        "outputId": "1e581f11-50cc-4922-a0b2-4f0535732c5a",
        "colab": {
          "base_uri": "https://localhost:8080/",
          "height": 176
        }
      },
      "source": [
        "titanic_cleaned.isnull().sum()"
      ],
      "execution_count": null,
      "outputs": [
        {
          "output_type": "execute_result",
          "data": {
            "text/plain": [
              "Survived      0\n",
              "Pclass        0\n",
              "Sex           0\n",
              "Age         104\n",
              "SibSp         0\n",
              "Parch         0\n",
              "Fare          0\n",
              "Embarked      2\n",
              "dtype: int64"
            ]
          },
          "metadata": {
            "tags": []
          },
          "execution_count": 67
        }
      ]
    },
    {
      "cell_type": "code",
      "metadata": {
        "id": "l58yyIb0CFyN",
        "outputId": "995f93e8-6292-4a94-b978-b9da6417c46d",
        "colab": {
          "base_uri": "https://localhost:8080/",
          "height": 176
        }
      },
      "source": [
        "titanic_cleaned = titanic_cleaned.dropna()\n",
        "titanic_cleaned.isnull().sum()"
      ],
      "execution_count": null,
      "outputs": [
        {
          "output_type": "execute_result",
          "data": {
            "text/plain": [
              "Survived    0\n",
              "Pclass      0\n",
              "Sex         0\n",
              "Age         0\n",
              "SibSp       0\n",
              "Parch       0\n",
              "Fare        0\n",
              "Embarked    0\n",
              "dtype: int64"
            ]
          },
          "metadata": {
            "tags": []
          },
          "execution_count": 68
        }
      ]
    },
    {
      "cell_type": "code",
      "metadata": {
        "id": "ZvCPkvt1CGA9",
        "outputId": "0642dd47-9244-4a21-d25a-5f5ea776e198",
        "colab": {
          "base_uri": "https://localhost:8080/",
          "height": 302
        }
      },
      "source": [
        "import seaborn as sns\n",
        "import matplotlib.pyplot as plt\n",
        "%matplotlib inline \n",
        "sns.set(color_codes=True)\n",
        "sns.boxplot(x=titanic_cleaned['Fare'])\n",
        "#mediana + najmniejsza + najwieksza + iqr"
      ],
      "execution_count": null,
      "outputs": [
        {
          "output_type": "execute_result",
          "data": {
            "text/plain": [
              "<matplotlib.axes._subplots.AxesSubplot at 0x7f260430eba8>"
            ]
          },
          "metadata": {
            "tags": []
          },
          "execution_count": 89
        },
        {
          "output_type": "display_data",
          "data": {
            "image/png": "[encoded data removed]",
            "text/plain": [
              "<Figure size 432x288 with 1 Axes>"
            ]
          },
          "metadata": {
            "tags": []
          }
        }
      ]
    },
    {
      "cell_type": "code",
      "metadata": {
        "id": "Z5YYksOhCF-i",
        "outputId": "46dbd37d-20f1-4c7b-9748-4a0c9ca945bb",
        "colab": {
          "base_uri": "https://localhost:8080/",
          "height": 615
        }
      },
      "source": [
        "plt.figure(figsize=(17,10))\n",
        "correlatons = titanic.corr()\n",
        "sns.heatmap(correlatons, annot=True)\n",
        "# zmienic sex na wartosc liczbowa"
      ],
      "execution_count": null,
      "outputs": [
        {
          "output_type": "execute_result",
          "data": {
            "text/plain": [
              "<matplotlib.axes._subplots.AxesSubplot at 0x7f2603e757f0>"
            ]
          },
          "metadata": {
            "tags": []
          },
          "execution_count": 95
        },
        {
          "output_type": "display_data",
          "data": {
            "image/png": "[encoded data removed]",
            "text/plain": [
              "<Figure size 1224x720 with 2 Axes>"
            ]
          },
          "metadata": {
            "tags": []
          }
        }
      ]
    },
    {
      "cell_type": "code",
      "metadata": {
        "id": "_03jQR-zCF6s",
        "outputId": "155894c9-0558-4923-82f0-97d59018be2b",
        "colab": {
          "base_uri": "https://localhost:8080/",
          "height": 176
        }
      },
      "source": [
        "titanic_model = titanic_cleaned.drop(['Embarked', 'Parch', 'SibSp', 'Sex'], axis=1, inplace=False) #axis =0 wiersze 1->kolumny\n",
        "titanic_model.info()\n"
      ],
      "execution_count": null,
      "outputs": [
        {
          "output_type": "stream",
          "text": [
            "<class 'pandas.core.frame.DataFrame'>\n",
            "Int64Index: 674 entries, 0 to 890\n",
            "Data columns (total 4 columns):\n",
            "Survived    674 non-null int64\n",
            "Pclass      674 non-null int64\n",
            "Age         674 non-null float64\n",
            "Fare        674 non-null float64\n",
            "dtypes: float64(2), int64(2)\n",
            "memory usage: 26.3 KB\n"
          ],
          "name": "stdout"
        }
      ]
    },
    {
      "cell_type": "code",
      "metadata": {
        "id": "RL2ZoxblCF15"
      },
      "source": [
        "def get_normalized_column(df, column_name):\n",
        "    return (df[column_name] - df[column_name].min()) / (df[column_name].max() - df[column_name].min())"
      ],
      "execution_count": null,
      "outputs": []
    },
    {
      "cell_type": "code",
      "metadata": {
        "id": "QOoBmoAdCn4S",
        "outputId": "07f11932-05fd-45af-eab6-6c8858a41dc0",
        "colab": {
          "base_uri": "https://localhost:8080/",
          "height": 197
        }
      },
      "source": [
        "norm_column = get_normalized_column(titanic_model, \"Fare\")\n",
        "titanic_model[\"Fare\"] = norm_column\n",
        "norm_column = get_normalized_column(titanic_model, \"Pclass\")\n",
        "titanic_model[\"Pclass\"] = norm_column\n",
        "norm_column = get_normalized_column(titanic_model, \"Age\")\n",
        "titanic_model[\"Age\"] = norm_column\n",
        "titanic_model.head(5)"
      ],
      "execution_count": null,
      "outputs": [
        {
          "output_type": "execute_result",
          "data": {
            "text/html": [
              "<div>\n",
              "<style scoped>\n",
              "    .dataframe tbody tr th:only-of-type {\n",
              "        vertical-align: middle;\n",
              "    }\n",
              "\n",
              "    .dataframe tbody tr th {\n",
              "        vertical-align: top;\n",
              "    }\n",
              "\n",
              "    .dataframe thead th {\n",
              "        text-align: right;\n",
              "    }\n",
              "</style>\n",
              "<table border=\"1\" class=\"dataframe\">\n",
              "  <thead>\n",
              "    <tr style=\"text-align: right;\">\n",
              "      <th></th>\n",
              "      <th>Survived</th>\n",
              "      <th>Pclass</th>\n",
              "      <th>Age</th>\n",
              "      <th>Fare</th>\n",
              "    </tr>\n",
              "  </thead>\n",
              "  <tbody>\n",
              "    <tr>\n",
              "      <th>0</th>\n",
              "      <td>0</td>\n",
              "      <td>1.0</td>\n",
              "      <td>0.271174</td>\n",
              "      <td>0.014151</td>\n",
              "    </tr>\n",
              "    <tr>\n",
              "      <th>1</th>\n",
              "      <td>1</td>\n",
              "      <td>0.0</td>\n",
              "      <td>0.472229</td>\n",
              "      <td>0.139136</td>\n",
              "    </tr>\n",
              "    <tr>\n",
              "      <th>2</th>\n",
              "      <td>1</td>\n",
              "      <td>1.0</td>\n",
              "      <td>0.321438</td>\n",
              "      <td>0.015469</td>\n",
              "    </tr>\n",
              "    <tr>\n",
              "      <th>3</th>\n",
              "      <td>1</td>\n",
              "      <td>0.0</td>\n",
              "      <td>0.434531</td>\n",
              "      <td>0.103644</td>\n",
              "    </tr>\n",
              "    <tr>\n",
              "      <th>4</th>\n",
              "      <td>0</td>\n",
              "      <td>1.0</td>\n",
              "      <td>0.434531</td>\n",
              "      <td>0.015713</td>\n",
              "    </tr>\n",
              "  </tbody>\n",
              "</table>\n",
              "</div>"
            ],
            "text/plain": [
              "   Survived  Pclass       Age      Fare\n",
              "0         0     1.0  0.271174  0.014151\n",
              "1         1     0.0  0.472229  0.139136\n",
              "2         1     1.0  0.321438  0.015469\n",
              "3         1     0.0  0.434531  0.103644\n",
              "4         0     1.0  0.434531  0.015713"
            ]
          },
          "metadata": {
            "tags": []
          },
          "execution_count": 73
        }
      ]
    },
    {
      "cell_type": "code",
      "metadata": {
        "id": "91laZhclDX43"
      },
      "source": [
        "from sklearn.model_selection import train_test_split"
      ],
      "execution_count": null,
      "outputs": []
    },
    {
      "cell_type": "code",
      "metadata": {
        "id": "MAk3qhUJCoCI",
        "outputId": "458ba473-569d-4598-a084-861cfeb40c99",
        "colab": {
          "base_uri": "https://localhost:8080/",
          "height": 123
        }
      },
      "source": [
        "X = titanic_model.drop(columns=\"Survived\")\n",
        "y = titanic_model.loc[:, \"Survived\"]\n",
        "y.head(5)"
      ],
      "execution_count": null,
      "outputs": [
        {
          "output_type": "execute_result",
          "data": {
            "text/plain": [
              "0    0\n",
              "1    1\n",
              "2    1\n",
              "3    1\n",
              "4    0\n",
              "Name: Survived, dtype: int64"
            ]
          },
          "metadata": {
            "tags": []
          },
          "execution_count": 75
        }
      ]
    },
    {
      "cell_type": "code",
      "metadata": {
        "id": "NHg9AmQJCoGr",
        "outputId": "e71f68c4-9784-48d6-dc6d-236e2d0b7730",
        "colab": {
          "base_uri": "https://localhost:8080/",
          "height": 265
        }
      },
      "source": [
        "train_X, test_X, train_y, test_y = train_test_split(X, y, test_size=0.3, random_state=42)\n",
        "\n",
        "print(\"Zbiór treningowy:\", train_X.shape, train_y.shape)\n",
        "print(\"Zbiór testowy:\", test_X.shape, test_y.shape)\n",
        "test_y"
      ],
      "execution_count": null,
      "outputs": [
        {
          "output_type": "stream",
          "text": [
            "Zbiór treningowy: (471, 3) (471,)\n",
            "Zbiór testowy: (203, 3) (203,)\n"
          ],
          "name": "stdout"
        },
        {
          "output_type": "execute_result",
          "data": {
            "text/plain": [
              "803    1\n",
              "389    1\n",
              "818    0\n",
              "723    0\n",
              "484    1\n",
              "      ..\n",
              "514    0\n",
              "225    0\n",
              "561    0\n",
              "545    0\n",
              "108    0\n",
              "Name: Survived, Length: 203, dtype: int64"
            ]
          },
          "metadata": {
            "tags": []
          },
          "execution_count": 98
        }
      ]
    },
    {
      "cell_type": "code",
      "metadata": {
        "id": "LkdjUeuWCoXg",
        "outputId": "90bf58e8-fd67-47b0-b6b8-a0c72b1f149d",
        "colab": {
          "base_uri": "https://localhost:8080/",
          "height": 70
        }
      },
      "source": [
        "knn = KNeighborsClassifier(metric='manhattan', n_neighbors=10\n",
        "  # miejsce na hiperparametry\n",
        ")\n",
        "\n",
        "# uczenie modelu KNN\n",
        "knn.fit(train_X, train_y)"
      ],
      "execution_count": null,
      "outputs": [
        {
          "output_type": "execute_result",
          "data": {
            "text/plain": [
              "KNeighborsClassifier(algorithm='auto', leaf_size=30, metric='manhattan',\n",
              "                     metric_params=None, n_jobs=None, n_neighbors=10, p=2,\n",
              "                     weights='uniform')"
            ]
          },
          "metadata": {
            "tags": []
          },
          "execution_count": 111
        }
      ]
    },
    {
      "cell_type": "code",
      "metadata": {
        "id": "3Lx_IRFlDrMi"
      },
      "source": [
        "predicted_y = knn.predict(test_X)"
      ],
      "execution_count": null,
      "outputs": []
    },
    {
      "cell_type": "code",
      "metadata": {
        "id": "AlkDWgCZDuO-",
        "outputId": "7b5d09b2-56aa-47e4-d7d5-19d7cbe5297f",
        "colab": {
          "base_uri": "https://localhost:8080/",
          "height": 34
        }
      },
      "source": [
        "precision = precision_score(test_y, predicted_y, average=\"micro\")\n",
        "print(\"Precyzja: {:.2f}\".format(precision))"
      ],
      "execution_count": null,
      "outputs": [
        {
          "output_type": "stream",
          "text": [
            "Precyzja: 0.73\n"
          ],
          "name": "stdout"
        }
      ]
    },
    {
      "cell_type": "code",
      "metadata": {
        "id": "w8UcLl3UD0tX"
      },
      "source": [
        ""
      ],
      "execution_count": null,
      "outputs": []
    },
    {
      "cell_type": "code",
      "metadata": {
        "id": "yPaQyIM8D1aJ",
        "outputId": "7b0d0f79-bff4-4018-efc4-302891f4951a",
        "colab": {
          "base_uri": "https://localhost:8080/",
          "height": 52
        }
      },
      "source": [
        "train_X, test_X, train_y, test_y = train_test_split(X, y, test_size=0.2, random_state=42)\n",
        "\n",
        "print(\"Zbiór treningowy:\", train_X.shape, train_y.shape)\n",
        "print(\"Zbiór testowy:\", test_X.shape, test_y.shape)"
      ],
      "execution_count": null,
      "outputs": [
        {
          "output_type": "stream",
          "text": [
            "Zbiór treningowy: (539, 3) (539,)\n",
            "Zbiór testowy: (135, 3) (135,)\n"
          ],
          "name": "stdout"
        }
      ]
    },
    {
      "cell_type": "code",
      "metadata": {
        "id": "nV3HOtOUD3u_",
        "outputId": "30925e46-1fb8-45a3-d7ca-7869d8e1a446",
        "colab": {
          "base_uri": "https://localhost:8080/",
          "height": 123
        }
      },
      "source": [
        "tree = DecisionTreeClassifier(max_leaf_nodes=12,max_depth=5\n",
        "  # miejsce na hiperparametry\n",
        ")\n",
        "\n",
        "# uczenie modelu drzewa decyzyjnego\n",
        "tree.fit(train_X, train_y)"
      ],
      "execution_count": null,
      "outputs": [
        {
          "output_type": "execute_result",
          "data": {
            "text/plain": [
              "DecisionTreeClassifier(ccp_alpha=0.0, class_weight=None, criterion='gini',\n",
              "                       max_depth=5, max_features=None, max_leaf_nodes=12,\n",
              "                       min_impurity_decrease=0.0, min_impurity_split=None,\n",
              "                       min_samples_leaf=1, min_samples_split=2,\n",
              "                       min_weight_fraction_leaf=0.0, presort='deprecated',\n",
              "                       random_state=None, splitter='best')"
            ]
          },
          "metadata": {
            "tags": []
          },
          "execution_count": 116
        }
      ]
    },
    {
      "cell_type": "code",
      "metadata": {
        "id": "dhvkq9dmEFdA"
      },
      "source": [
        "# predykcja na zbiorze testowym\n",
        "predicted_y = tree.predict(test_X)"
      ],
      "execution_count": null,
      "outputs": []
    },
    {
      "cell_type": "code",
      "metadata": {
        "id": "FdOW6k-NEFkJ",
        "outputId": "6ae7f980-6045-4565-917b-d53ca7adc844",
        "colab": {
          "base_uri": "https://localhost:8080/",
          "height": 34
        }
      },
      "source": [
        "from sklearn.metrics import precision_score\n",
        "precision = precision_score(test_y, predicted_y, average=\"micro\")\n",
        "print(\"Precyzja: {:.2f}\".format(precision))"
      ],
      "execution_count": null,
      "outputs": [
        {
          "output_type": "stream",
          "text": [
            "Precyzja: 0.72\n"
          ],
          "name": "stdout"
        }
      ]
    },
    {
      "cell_type": "code",
      "metadata": {
        "id": "fr-WyUKJEGKJ",
        "outputId": "1f43aac3-53dd-49bd-c520-0d6468fc3341",
        "colab": {
          "base_uri": "https://localhost:8080/",
          "height": 1000
        }
      },
      "source": [
        "# find the best leaf\n",
        "for xx in range(2,35):\n",
        "  for yy in range (2,15):\n",
        "    tree = DecisionTreeClassifier(max_leaf_nodes=xx,max_depth=yy\n",
        "      # miejsce na hiperparametry\n",
        "    )\n",
        "\n",
        "    # uczenie modelu drzewa decyzyjnego\n",
        "    tree.fit(train_X, train_y)\n",
        "\n",
        "    # predykcja na zbiorze testowym\n",
        "    predicted_y = tree.predict(test_X)\n",
        "    predicted_y\n",
        "    from sklearn.metrics import precision_score\n",
        "    precision = precision_score(test_y, predicted_y, average=\"micro\")\n",
        "    print(\"max_leaf_nodes={} and max_depth={} Precyzja: {:.2f}\".format(xx,yy, precision))\n",
        "\n"
      ],
      "execution_count": null,
      "outputs": [
        {
          "output_type": "stream",
          "text": [
            "max_leaf_nodes=2 and max_depth=2 Precyzja: 0.70\n",
            "max_leaf_nodes=2 and max_depth=3 Precyzja: 0.70\n",
            "max_leaf_nodes=2 and max_depth=4 Precyzja: 0.70\n",
            "max_leaf_nodes=2 and max_depth=5 Precyzja: 0.70\n",
            "max_leaf_nodes=2 and max_depth=6 Precyzja: 0.70\n",
            "max_leaf_nodes=2 and max_depth=7 Precyzja: 0.70\n",
            "max_leaf_nodes=2 and max_depth=8 Precyzja: 0.70\n",
            "max_leaf_nodes=2 and max_depth=9 Precyzja: 0.70\n",
            "max_leaf_nodes=2 and max_depth=10 Precyzja: 0.70\n",
            "max_leaf_nodes=2 and max_depth=11 Precyzja: 0.70\n",
            "max_leaf_nodes=2 and max_depth=12 Precyzja: 0.70\n",
            "max_leaf_nodes=2 and max_depth=13 Precyzja: 0.70\n",
            "max_leaf_nodes=2 and max_depth=14 Precyzja: 0.70\n",
            "max_leaf_nodes=3 and max_depth=2 Precyzja: 0.71\n",
            "max_leaf_nodes=3 and max_depth=3 Precyzja: 0.71\n",
            "max_leaf_nodes=3 and max_depth=4 Precyzja: 0.71\n",
            "max_leaf_nodes=3 and max_depth=5 Precyzja: 0.71\n",
            "max_leaf_nodes=3 and max_depth=6 Precyzja: 0.71\n",
            "max_leaf_nodes=3 and max_depth=7 Precyzja: 0.71\n",
            "max_leaf_nodes=3 and max_depth=8 Precyzja: 0.71\n",
            "max_leaf_nodes=3 and max_depth=9 Precyzja: 0.71\n",
            "max_leaf_nodes=3 and max_depth=10 Precyzja: 0.71\n",
            "max_leaf_nodes=3 and max_depth=11 Precyzja: 0.71\n",
            "max_leaf_nodes=3 and max_depth=12 Precyzja: 0.71\n",
            "max_leaf_nodes=3 and max_depth=13 Precyzja: 0.71\n",
            "max_leaf_nodes=3 and max_depth=14 Precyzja: 0.71\n",
            "max_leaf_nodes=4 and max_depth=2 Precyzja: 0.70\n",
            "max_leaf_nodes=4 and max_depth=3 Precyzja: 0.70\n",
            "max_leaf_nodes=4 and max_depth=4 Precyzja: 0.70\n",
            "max_leaf_nodes=4 and max_depth=5 Precyzja: 0.70\n",
            "max_leaf_nodes=4 and max_depth=6 Precyzja: 0.70\n",
            "max_leaf_nodes=4 and max_depth=7 Precyzja: 0.70\n",
            "max_leaf_nodes=4 and max_depth=8 Precyzja: 0.70\n",
            "max_leaf_nodes=4 and max_depth=9 Precyzja: 0.70\n",
            "max_leaf_nodes=4 and max_depth=10 Precyzja: 0.70\n",
            "max_leaf_nodes=4 and max_depth=11 Precyzja: 0.70\n",
            "max_leaf_nodes=4 and max_depth=12 Precyzja: 0.70\n",
            "max_leaf_nodes=4 and max_depth=13 Precyzja: 0.70\n",
            "max_leaf_nodes=4 and max_depth=14 Precyzja: 0.70\n",
            "max_leaf_nodes=5 and max_depth=2 Precyzja: 0.70\n",
            "max_leaf_nodes=5 and max_depth=3 Precyzja: 0.69\n",
            "max_leaf_nodes=5 and max_depth=4 Precyzja: 0.69\n",
            "max_leaf_nodes=5 and max_depth=5 Precyzja: 0.69\n",
            "max_leaf_nodes=5 and max_depth=6 Precyzja: 0.69\n",
            "max_leaf_nodes=5 and max_depth=7 Precyzja: 0.69\n",
            "max_leaf_nodes=5 and max_depth=8 Precyzja: 0.69\n",
            "max_leaf_nodes=5 and max_depth=9 Precyzja: 0.69\n",
            "max_leaf_nodes=5 and max_depth=10 Precyzja: 0.69\n",
            "max_leaf_nodes=5 and max_depth=11 Precyzja: 0.69\n",
            "max_leaf_nodes=5 and max_depth=12 Precyzja: 0.69\n",
            "max_leaf_nodes=5 and max_depth=13 Precyzja: 0.69\n",
            "max_leaf_nodes=5 and max_depth=14 Precyzja: 0.69\n",
            "max_leaf_nodes=6 and max_depth=2 Precyzja: 0.70\n",
            "max_leaf_nodes=6 and max_depth=3 Precyzja: 0.70\n",
            "max_leaf_nodes=6 and max_depth=4 Precyzja: 0.70\n",
            "max_leaf_nodes=6 and max_depth=5 Precyzja: 0.70\n",
            "max_leaf_nodes=6 and max_depth=6 Precyzja: 0.70\n",
            "max_leaf_nodes=6 and max_depth=7 Precyzja: 0.70\n",
            "max_leaf_nodes=6 and max_depth=8 Precyzja: 0.70\n",
            "max_leaf_nodes=6 and max_depth=9 Precyzja: 0.70\n",
            "max_leaf_nodes=6 and max_depth=10 Precyzja: 0.70\n",
            "max_leaf_nodes=6 and max_depth=11 Precyzja: 0.70\n",
            "max_leaf_nodes=6 and max_depth=12 Precyzja: 0.70\n",
            "max_leaf_nodes=6 and max_depth=13 Precyzja: 0.70\n",
            "max_leaf_nodes=6 and max_depth=14 Precyzja: 0.70\n",
            "max_leaf_nodes=7 and max_depth=2 Precyzja: 0.70\n",
            "max_leaf_nodes=7 and max_depth=3 Precyzja: 0.70\n",
            "max_leaf_nodes=7 and max_depth=4 Precyzja: 0.70\n",
            "max_leaf_nodes=7 and max_depth=5 Precyzja: 0.70\n",
            "max_leaf_nodes=7 and max_depth=6 Precyzja: 0.70\n",
            "max_leaf_nodes=7 and max_depth=7 Precyzja: 0.70\n",
            "max_leaf_nodes=7 and max_depth=8 Precyzja: 0.70\n",
            "max_leaf_nodes=7 and max_depth=9 Precyzja: 0.70\n",
            "max_leaf_nodes=7 and max_depth=10 Precyzja: 0.70\n",
            "max_leaf_nodes=7 and max_depth=11 Precyzja: 0.70\n",
            "max_leaf_nodes=7 and max_depth=12 Precyzja: 0.70\n",
            "max_leaf_nodes=7 and max_depth=13 Precyzja: 0.70\n",
            "max_leaf_nodes=7 and max_depth=14 Precyzja: 0.70\n",
            "max_leaf_nodes=8 and max_depth=2 Precyzja: 0.70\n",
            "max_leaf_nodes=8 and max_depth=3 Precyzja: 0.70\n",
            "max_leaf_nodes=8 and max_depth=4 Precyzja: 0.72\n",
            "max_leaf_nodes=8 and max_depth=5 Precyzja: 0.70\n",
            "max_leaf_nodes=8 and max_depth=6 Precyzja: 0.70\n",
            "max_leaf_nodes=8 and max_depth=7 Precyzja: 0.70\n",
            "max_leaf_nodes=8 and max_depth=8 Precyzja: 0.70\n",
            "max_leaf_nodes=8 and max_depth=9 Precyzja: 0.70\n",
            "max_leaf_nodes=8 and max_depth=10 Precyzja: 0.70\n",
            "max_leaf_nodes=8 and max_depth=11 Precyzja: 0.70\n",
            "max_leaf_nodes=8 and max_depth=12 Precyzja: 0.70\n",
            "max_leaf_nodes=8 and max_depth=13 Precyzja: 0.70\n",
            "max_leaf_nodes=8 and max_depth=14 Precyzja: 0.70\n",
            "max_leaf_nodes=9 and max_depth=2 Precyzja: 0.70\n",
            "max_leaf_nodes=9 and max_depth=3 Precyzja: 0.70\n",
            "max_leaf_nodes=9 and max_depth=4 Precyzja: 0.72\n",
            "max_leaf_nodes=9 and max_depth=5 Precyzja: 0.72\n",
            "max_leaf_nodes=9 and max_depth=6 Precyzja: 0.72\n",
            "max_leaf_nodes=9 and max_depth=7 Precyzja: 0.72\n",
            "max_leaf_nodes=9 and max_depth=8 Precyzja: 0.72\n",
            "max_leaf_nodes=9 and max_depth=9 Precyzja: 0.72\n",
            "max_leaf_nodes=9 and max_depth=10 Precyzja: 0.72\n",
            "max_leaf_nodes=9 and max_depth=11 Precyzja: 0.72\n",
            "max_leaf_nodes=9 and max_depth=12 Precyzja: 0.72\n",
            "max_leaf_nodes=9 and max_depth=13 Precyzja: 0.72\n",
            "max_leaf_nodes=9 and max_depth=14 Precyzja: 0.72\n",
            "max_leaf_nodes=10 and max_depth=2 Precyzja: 0.70\n",
            "max_leaf_nodes=10 and max_depth=3 Precyzja: 0.70\n",
            "max_leaf_nodes=10 and max_depth=4 Precyzja: 0.72\n",
            "max_leaf_nodes=10 and max_depth=5 Precyzja: 0.72\n",
            "max_leaf_nodes=10 and max_depth=6 Precyzja: 0.72\n",
            "max_leaf_nodes=10 and max_depth=7 Precyzja: 0.72\n",
            "max_leaf_nodes=10 and max_depth=8 Precyzja: 0.72\n",
            "max_leaf_nodes=10 and max_depth=9 Precyzja: 0.72\n",
            "max_leaf_nodes=10 and max_depth=10 Precyzja: 0.72\n",
            "max_leaf_nodes=10 and max_depth=11 Precyzja: 0.72\n",
            "max_leaf_nodes=10 and max_depth=12 Precyzja: 0.72\n",
            "max_leaf_nodes=10 and max_depth=13 Precyzja: 0.72\n",
            "max_leaf_nodes=10 and max_depth=14 Precyzja: 0.72\n",
            "max_leaf_nodes=11 and max_depth=2 Precyzja: 0.70\n",
            "max_leaf_nodes=11 and max_depth=3 Precyzja: 0.70\n",
            "max_leaf_nodes=11 and max_depth=4 Precyzja: 0.71\n",
            "max_leaf_nodes=11 and max_depth=5 Precyzja: 0.72\n",
            "max_leaf_nodes=11 and max_depth=6 Precyzja: 0.73\n",
            "max_leaf_nodes=11 and max_depth=7 Precyzja: 0.73\n",
            "max_leaf_nodes=11 and max_depth=8 Precyzja: 0.73\n",
            "max_leaf_nodes=11 and max_depth=9 Precyzja: 0.73\n",
            "max_leaf_nodes=11 and max_depth=10 Precyzja: 0.73\n",
            "max_leaf_nodes=11 and max_depth=11 Precyzja: 0.73\n",
            "max_leaf_nodes=11 and max_depth=12 Precyzja: 0.73\n",
            "max_leaf_nodes=11 and max_depth=13 Precyzja: 0.73\n",
            "max_leaf_nodes=11 and max_depth=14 Precyzja: 0.73\n",
            "max_leaf_nodes=12 and max_depth=2 Precyzja: 0.70\n",
            "max_leaf_nodes=12 and max_depth=3 Precyzja: 0.70\n",
            "max_leaf_nodes=12 and max_depth=4 Precyzja: 0.71\n",
            "max_leaf_nodes=12 and max_depth=5 Precyzja: 0.72\n",
            "max_leaf_nodes=12 and max_depth=6 Precyzja: 0.73\n",
            "max_leaf_nodes=12 and max_depth=7 Precyzja: 0.73\n",
            "max_leaf_nodes=12 and max_depth=8 Precyzja: 0.73\n",
            "max_leaf_nodes=12 and max_depth=9 Precyzja: 0.73\n",
            "max_leaf_nodes=12 and max_depth=10 Precyzja: 0.73\n",
            "max_leaf_nodes=12 and max_depth=11 Precyzja: 0.73\n",
            "max_leaf_nodes=12 and max_depth=12 Precyzja: 0.73\n",
            "max_leaf_nodes=12 and max_depth=13 Precyzja: 0.73\n",
            "max_leaf_nodes=12 and max_depth=14 Precyzja: 0.73\n",
            "max_leaf_nodes=13 and max_depth=2 Precyzja: 0.70\n",
            "max_leaf_nodes=13 and max_depth=3 Precyzja: 0.70\n",
            "max_leaf_nodes=13 and max_depth=4 Precyzja: 0.71\n",
            "max_leaf_nodes=13 and max_depth=5 Precyzja: 0.72\n",
            "max_leaf_nodes=13 and max_depth=6 Precyzja: 0.74\n",
            "max_leaf_nodes=13 and max_depth=7 Precyzja: 0.74\n",
            "max_leaf_nodes=13 and max_depth=8 Precyzja: 0.74\n",
            "max_leaf_nodes=13 and max_depth=9 Precyzja: 0.74\n",
            "max_leaf_nodes=13 and max_depth=10 Precyzja: 0.74\n",
            "max_leaf_nodes=13 and max_depth=11 Precyzja: 0.74\n",
            "max_leaf_nodes=13 and max_depth=12 Precyzja: 0.74\n",
            "max_leaf_nodes=13 and max_depth=13 Precyzja: 0.74\n",
            "max_leaf_nodes=13 and max_depth=14 Precyzja: 0.74\n",
            "max_leaf_nodes=14 and max_depth=2 Precyzja: 0.70\n",
            "max_leaf_nodes=14 and max_depth=3 Precyzja: 0.70\n",
            "max_leaf_nodes=14 and max_depth=4 Precyzja: 0.69\n",
            "max_leaf_nodes=14 and max_depth=5 Precyzja: 0.72\n",
            "max_leaf_nodes=14 and max_depth=6 Precyzja: 0.74\n",
            "max_leaf_nodes=14 and max_depth=7 Precyzja: 0.74\n",
            "max_leaf_nodes=14 and max_depth=8 Precyzja: 0.74\n",
            "max_leaf_nodes=14 and max_depth=9 Precyzja: 0.74\n",
            "max_leaf_nodes=14 and max_depth=10 Precyzja: 0.74\n",
            "max_leaf_nodes=14 and max_depth=11 Precyzja: 0.74\n",
            "max_leaf_nodes=14 and max_depth=12 Precyzja: 0.74\n",
            "max_leaf_nodes=14 and max_depth=13 Precyzja: 0.74\n",
            "max_leaf_nodes=14 and max_depth=14 Precyzja: 0.74\n",
            "max_leaf_nodes=15 and max_depth=2 Precyzja: 0.70\n",
            "max_leaf_nodes=15 and max_depth=3 Precyzja: 0.70\n",
            "max_leaf_nodes=15 and max_depth=4 Precyzja: 0.69\n",
            "max_leaf_nodes=15 and max_depth=5 Precyzja: 0.71\n",
            "max_leaf_nodes=15 and max_depth=6 Precyzja: 0.74\n",
            "max_leaf_nodes=15 and max_depth=7 Precyzja: 0.74\n",
            "max_leaf_nodes=15 and max_depth=8 Precyzja: 0.74\n",
            "max_leaf_nodes=15 and max_depth=9 Precyzja: 0.74\n",
            "max_leaf_nodes=15 and max_depth=10 Precyzja: 0.74\n",
            "max_leaf_nodes=15 and max_depth=11 Precyzja: 0.74\n",
            "max_leaf_nodes=15 and max_depth=12 Precyzja: 0.74\n",
            "max_leaf_nodes=15 and max_depth=13 Precyzja: 0.74\n",
            "max_leaf_nodes=15 and max_depth=14 Precyzja: 0.74\n",
            "max_leaf_nodes=16 and max_depth=2 Precyzja: 0.70\n",
            "max_leaf_nodes=16 and max_depth=3 Precyzja: 0.70\n",
            "max_leaf_nodes=16 and max_depth=4 Precyzja: 0.69\n",
            "max_leaf_nodes=16 and max_depth=5 Precyzja: 0.73\n",
            "max_leaf_nodes=16 and max_depth=6 Precyzja: 0.74\n",
            "max_leaf_nodes=16 and max_depth=7 Precyzja: 0.74\n",
            "max_leaf_nodes=16 and max_depth=8 Precyzja: 0.74\n",
            "max_leaf_nodes=16 and max_depth=9 Precyzja: 0.74\n",
            "max_leaf_nodes=16 and max_depth=10 Precyzja: 0.74\n",
            "max_leaf_nodes=16 and max_depth=11 Precyzja: 0.74\n",
            "max_leaf_nodes=16 and max_depth=12 Precyzja: 0.74\n",
            "max_leaf_nodes=16 and max_depth=13 Precyzja: 0.74\n",
            "max_leaf_nodes=16 and max_depth=14 Precyzja: 0.74\n",
            "max_leaf_nodes=17 and max_depth=2 Precyzja: 0.70\n",
            "max_leaf_nodes=17 and max_depth=3 Precyzja: 0.70\n",
            "max_leaf_nodes=17 and max_depth=4 Precyzja: 0.69\n",
            "max_leaf_nodes=17 and max_depth=5 Precyzja: 0.73\n",
            "max_leaf_nodes=17 and max_depth=6 Precyzja: 0.73\n",
            "max_leaf_nodes=17 and max_depth=7 Precyzja: 0.73\n",
            "max_leaf_nodes=17 and max_depth=8 Precyzja: 0.73\n",
            "max_leaf_nodes=17 and max_depth=9 Precyzja: 0.73\n",
            "max_leaf_nodes=17 and max_depth=10 Precyzja: 0.73\n",
            "max_leaf_nodes=17 and max_depth=11 Precyzja: 0.73\n",
            "max_leaf_nodes=17 and max_depth=12 Precyzja: 0.73\n",
            "max_leaf_nodes=17 and max_depth=13 Precyzja: 0.73\n",
            "max_leaf_nodes=17 and max_depth=14 Precyzja: 0.73\n",
            "max_leaf_nodes=18 and max_depth=2 Precyzja: 0.70\n",
            "max_leaf_nodes=18 and max_depth=3 Precyzja: 0.70\n",
            "max_leaf_nodes=18 and max_depth=4 Precyzja: 0.69\n",
            "max_leaf_nodes=18 and max_depth=5 Precyzja: 0.73\n",
            "max_leaf_nodes=18 and max_depth=6 Precyzja: 0.73\n",
            "max_leaf_nodes=18 and max_depth=7 Precyzja: 0.73\n",
            "max_leaf_nodes=18 and max_depth=8 Precyzja: 0.73\n",
            "max_leaf_nodes=18 and max_depth=9 Precyzja: 0.73\n",
            "max_leaf_nodes=18 and max_depth=10 Precyzja: 0.73\n",
            "max_leaf_nodes=18 and max_depth=11 Precyzja: 0.73\n",
            "max_leaf_nodes=18 and max_depth=12 Precyzja: 0.73\n",
            "max_leaf_nodes=18 and max_depth=13 Precyzja: 0.73\n",
            "max_leaf_nodes=18 and max_depth=14 Precyzja: 0.73\n",
            "max_leaf_nodes=19 and max_depth=2 Precyzja: 0.70\n",
            "max_leaf_nodes=19 and max_depth=3 Precyzja: 0.70\n",
            "max_leaf_nodes=19 and max_depth=4 Precyzja: 0.69\n",
            "max_leaf_nodes=19 and max_depth=5 Precyzja: 0.73\n",
            "max_leaf_nodes=19 and max_depth=6 Precyzja: 0.75\n",
            "max_leaf_nodes=19 and max_depth=7 Precyzja: 0.73\n",
            "max_leaf_nodes=19 and max_depth=8 Precyzja: 0.73\n",
            "max_leaf_nodes=19 and max_depth=9 Precyzja: 0.73\n",
            "max_leaf_nodes=19 and max_depth=10 Precyzja: 0.73\n",
            "max_leaf_nodes=19 and max_depth=11 Precyzja: 0.73\n",
            "max_leaf_nodes=19 and max_depth=12 Precyzja: 0.73\n",
            "max_leaf_nodes=19 and max_depth=13 Precyzja: 0.73\n",
            "max_leaf_nodes=19 and max_depth=14 Precyzja: 0.73\n",
            "max_leaf_nodes=20 and max_depth=2 Precyzja: 0.70\n",
            "max_leaf_nodes=20 and max_depth=3 Precyzja: 0.70\n",
            "max_leaf_nodes=20 and max_depth=4 Precyzja: 0.69\n",
            "max_leaf_nodes=20 and max_depth=5 Precyzja: 0.70\n",
            "max_leaf_nodes=20 and max_depth=6 Precyzja: 0.75\n",
            "max_leaf_nodes=20 and max_depth=7 Precyzja: 0.74\n",
            "max_leaf_nodes=20 and max_depth=8 Precyzja: 0.74\n",
            "max_leaf_nodes=20 and max_depth=9 Precyzja: 0.74\n",
            "max_leaf_nodes=20 and max_depth=10 Precyzja: 0.74\n",
            "max_leaf_nodes=20 and max_depth=11 Precyzja: 0.74\n",
            "max_leaf_nodes=20 and max_depth=12 Precyzja: 0.74\n",
            "max_leaf_nodes=20 and max_depth=13 Precyzja: 0.74\n",
            "max_leaf_nodes=20 and max_depth=14 Precyzja: 0.74\n",
            "max_leaf_nodes=21 and max_depth=2 Precyzja: 0.70\n",
            "max_leaf_nodes=21 and max_depth=3 Precyzja: 0.70\n",
            "max_leaf_nodes=21 and max_depth=4 Precyzja: 0.69\n",
            "max_leaf_nodes=21 and max_depth=5 Precyzja: 0.70\n",
            "max_leaf_nodes=21 and max_depth=6 Precyzja: 0.75\n",
            "max_leaf_nodes=21 and max_depth=7 Precyzja: 0.74\n",
            "max_leaf_nodes=21 and max_depth=8 Precyzja: 0.74\n",
            "max_leaf_nodes=21 and max_depth=9 Precyzja: 0.74\n",
            "max_leaf_nodes=21 and max_depth=10 Precyzja: 0.74\n",
            "max_leaf_nodes=21 and max_depth=11 Precyzja: 0.74\n",
            "max_leaf_nodes=21 and max_depth=12 Precyzja: 0.74\n",
            "max_leaf_nodes=21 and max_depth=13 Precyzja: 0.74\n",
            "max_leaf_nodes=21 and max_depth=14 Precyzja: 0.74\n",
            "max_leaf_nodes=22 and max_depth=2 Precyzja: 0.70\n",
            "max_leaf_nodes=22 and max_depth=3 Precyzja: 0.70\n",
            "max_leaf_nodes=22 and max_depth=4 Precyzja: 0.69\n",
            "max_leaf_nodes=22 and max_depth=5 Precyzja: 0.70\n",
            "max_leaf_nodes=22 and max_depth=6 Precyzja: 0.75\n",
            "max_leaf_nodes=22 and max_depth=7 Precyzja: 0.74\n",
            "max_leaf_nodes=22 and max_depth=8 Precyzja: 0.74\n",
            "max_leaf_nodes=22 and max_depth=9 Precyzja: 0.74\n",
            "max_leaf_nodes=22 and max_depth=10 Precyzja: 0.74\n",
            "max_leaf_nodes=22 and max_depth=11 Precyzja: 0.74\n",
            "max_leaf_nodes=22 and max_depth=12 Precyzja: 0.74\n",
            "max_leaf_nodes=22 and max_depth=13 Precyzja: 0.74\n",
            "max_leaf_nodes=22 and max_depth=14 Precyzja: 0.74\n",
            "max_leaf_nodes=23 and max_depth=2 Precyzja: 0.70\n",
            "max_leaf_nodes=23 and max_depth=3 Precyzja: 0.70\n",
            "max_leaf_nodes=23 and max_depth=4 Precyzja: 0.69\n",
            "max_leaf_nodes=23 and max_depth=5 Precyzja: 0.70\n",
            "max_leaf_nodes=23 and max_depth=6 Precyzja: 0.75\n",
            "max_leaf_nodes=23 and max_depth=7 Precyzja: 0.74\n",
            "max_leaf_nodes=23 and max_depth=8 Precyzja: 0.74\n",
            "max_leaf_nodes=23 and max_depth=9 Precyzja: 0.74\n",
            "max_leaf_nodes=23 and max_depth=10 Precyzja: 0.74\n",
            "max_leaf_nodes=23 and max_depth=11 Precyzja: 0.74\n",
            "max_leaf_nodes=23 and max_depth=12 Precyzja: 0.74\n",
            "max_leaf_nodes=23 and max_depth=13 Precyzja: 0.74\n",
            "max_leaf_nodes=23 and max_depth=14 Precyzja: 0.74\n",
            "max_leaf_nodes=24 and max_depth=2 Precyzja: 0.70\n",
            "max_leaf_nodes=24 and max_depth=3 Precyzja: 0.70\n",
            "max_leaf_nodes=24 and max_depth=4 Precyzja: 0.69\n",
            "max_leaf_nodes=24 and max_depth=5 Precyzja: 0.71\n",
            "max_leaf_nodes=24 and max_depth=6 Precyzja: 0.75\n",
            "max_leaf_nodes=24 and max_depth=7 Precyzja: 0.72\n",
            "max_leaf_nodes=24 and max_depth=8 Precyzja: 0.74\n",
            "max_leaf_nodes=24 and max_depth=9 Precyzja: 0.74\n",
            "max_leaf_nodes=24 and max_depth=10 Precyzja: 0.74\n",
            "max_leaf_nodes=24 and max_depth=11 Precyzja: 0.74\n",
            "max_leaf_nodes=24 and max_depth=12 Precyzja: 0.74\n",
            "max_leaf_nodes=24 and max_depth=13 Precyzja: 0.74\n",
            "max_leaf_nodes=24 and max_depth=14 Precyzja: 0.74\n",
            "max_leaf_nodes=25 and max_depth=2 Precyzja: 0.70\n",
            "max_leaf_nodes=25 and max_depth=3 Precyzja: 0.70\n",
            "max_leaf_nodes=25 and max_depth=4 Precyzja: 0.69\n",
            "max_leaf_nodes=25 and max_depth=5 Precyzja: 0.71\n",
            "max_leaf_nodes=25 and max_depth=6 Precyzja: 0.73\n",
            "max_leaf_nodes=25 and max_depth=7 Precyzja: 0.72\n",
            "max_leaf_nodes=25 and max_depth=8 Precyzja: 0.72\n",
            "max_leaf_nodes=25 and max_depth=9 Precyzja: 0.72\n",
            "max_leaf_nodes=25 and max_depth=10 Precyzja: 0.72\n",
            "max_leaf_nodes=25 and max_depth=11 Precyzja: 0.72\n",
            "max_leaf_nodes=25 and max_depth=12 Precyzja: 0.72\n",
            "max_leaf_nodes=25 and max_depth=13 Precyzja: 0.72\n",
            "max_leaf_nodes=25 and max_depth=14 Precyzja: 0.72\n",
            "max_leaf_nodes=26 and max_depth=2 Precyzja: 0.70\n",
            "max_leaf_nodes=26 and max_depth=3 Precyzja: 0.70\n",
            "max_leaf_nodes=26 and max_depth=4 Precyzja: 0.69\n",
            "max_leaf_nodes=26 and max_depth=5 Precyzja: 0.71\n",
            "max_leaf_nodes=26 and max_depth=6 Precyzja: 0.73\n",
            "max_leaf_nodes=26 and max_depth=7 Precyzja: 0.72\n",
            "max_leaf_nodes=26 and max_depth=8 Precyzja: 0.73\n",
            "max_leaf_nodes=26 and max_depth=9 Precyzja: 0.73\n",
            "max_leaf_nodes=26 and max_depth=10 Precyzja: 0.73\n",
            "max_leaf_nodes=26 and max_depth=11 Precyzja: 0.73\n",
            "max_leaf_nodes=26 and max_depth=12 Precyzja: 0.73\n",
            "max_leaf_nodes=26 and max_depth=13 Precyzja: 0.73\n",
            "max_leaf_nodes=26 and max_depth=14 Precyzja: 0.73\n",
            "max_leaf_nodes=27 and max_depth=2 Precyzja: 0.70\n",
            "max_leaf_nodes=27 and max_depth=3 Precyzja: 0.70\n",
            "max_leaf_nodes=27 and max_depth=4 Precyzja: 0.69\n",
            "max_leaf_nodes=27 and max_depth=5 Precyzja: 0.71\n",
            "max_leaf_nodes=27 and max_depth=6 Precyzja: 0.73\n",
            "max_leaf_nodes=27 and max_depth=7 Precyzja: 0.72\n",
            "max_leaf_nodes=27 and max_depth=8 Precyzja: 0.73\n",
            "max_leaf_nodes=27 and max_depth=9 Precyzja: 0.73\n",
            "max_leaf_nodes=27 and max_depth=10 Precyzja: 0.73\n",
            "max_leaf_nodes=27 and max_depth=11 Precyzja: 0.73\n",
            "max_leaf_nodes=27 and max_depth=12 Precyzja: 0.73\n",
            "max_leaf_nodes=27 and max_depth=13 Precyzja: 0.73\n",
            "max_leaf_nodes=27 and max_depth=14 Precyzja: 0.73\n",
            "max_leaf_nodes=28 and max_depth=2 Precyzja: 0.70\n",
            "max_leaf_nodes=28 and max_depth=3 Precyzja: 0.70\n",
            "max_leaf_nodes=28 and max_depth=4 Precyzja: 0.69\n",
            "max_leaf_nodes=28 and max_depth=5 Precyzja: 0.71\n",
            "max_leaf_nodes=28 and max_depth=6 Precyzja: 0.73\n",
            "max_leaf_nodes=28 and max_depth=7 Precyzja: 0.72\n",
            "max_leaf_nodes=28 and max_depth=8 Precyzja: 0.73\n",
            "max_leaf_nodes=28 and max_depth=9 Precyzja: 0.73\n",
            "max_leaf_nodes=28 and max_depth=10 Precyzja: 0.73\n",
            "max_leaf_nodes=28 and max_depth=11 Precyzja: 0.73\n",
            "max_leaf_nodes=28 and max_depth=12 Precyzja: 0.73\n",
            "max_leaf_nodes=28 and max_depth=13 Precyzja: 0.73\n",
            "max_leaf_nodes=28 and max_depth=14 Precyzja: 0.73\n",
            "max_leaf_nodes=29 and max_depth=2 Precyzja: 0.70\n",
            "max_leaf_nodes=29 and max_depth=3 Precyzja: 0.70\n",
            "max_leaf_nodes=29 and max_depth=4 Precyzja: 0.69\n",
            "max_leaf_nodes=29 and max_depth=5 Precyzja: 0.71\n",
            "max_leaf_nodes=29 and max_depth=6 Precyzja: 0.73\n",
            "max_leaf_nodes=29 and max_depth=7 Precyzja: 0.70\n",
            "max_leaf_nodes=29 and max_depth=8 Precyzja: 0.73\n",
            "max_leaf_nodes=29 and max_depth=9 Precyzja: 0.73\n",
            "max_leaf_nodes=29 and max_depth=10 Precyzja: 0.73\n",
            "max_leaf_nodes=29 and max_depth=11 Precyzja: 0.73\n",
            "max_leaf_nodes=29 and max_depth=12 Precyzja: 0.73\n",
            "max_leaf_nodes=29 and max_depth=13 Precyzja: 0.73\n",
            "max_leaf_nodes=29 and max_depth=14 Precyzja: 0.73\n",
            "max_leaf_nodes=30 and max_depth=2 Precyzja: 0.70\n",
            "max_leaf_nodes=30 and max_depth=3 Precyzja: 0.70\n",
            "max_leaf_nodes=30 and max_depth=4 Precyzja: 0.69\n",
            "max_leaf_nodes=30 and max_depth=5 Precyzja: 0.71\n",
            "max_leaf_nodes=30 and max_depth=6 Precyzja: 0.73\n",
            "max_leaf_nodes=30 and max_depth=7 Precyzja: 0.70\n",
            "max_leaf_nodes=30 and max_depth=8 Precyzja: 0.73\n",
            "max_leaf_nodes=30 and max_depth=9 Precyzja: 0.73\n",
            "max_leaf_nodes=30 and max_depth=10 Precyzja: 0.73\n",
            "max_leaf_nodes=30 and max_depth=11 Precyzja: 0.73\n",
            "max_leaf_nodes=30 and max_depth=12 Precyzja: 0.73\n",
            "max_leaf_nodes=30 and max_depth=13 Precyzja: 0.73\n",
            "max_leaf_nodes=30 and max_depth=14 Precyzja: 0.73\n",
            "max_leaf_nodes=31 and max_depth=2 Precyzja: 0.70\n",
            "max_leaf_nodes=31 and max_depth=3 Precyzja: 0.70\n",
            "max_leaf_nodes=31 and max_depth=4 Precyzja: 0.69\n",
            "max_leaf_nodes=31 and max_depth=5 Precyzja: 0.71\n",
            "max_leaf_nodes=31 and max_depth=6 Precyzja: 0.73\n",
            "max_leaf_nodes=31 and max_depth=7 Precyzja: 0.70\n",
            "max_leaf_nodes=31 and max_depth=8 Precyzja: 0.73\n",
            "max_leaf_nodes=31 and max_depth=9 Precyzja: 0.73\n",
            "max_leaf_nodes=31 and max_depth=10 Precyzja: 0.73\n",
            "max_leaf_nodes=31 and max_depth=11 Precyzja: 0.73\n",
            "max_leaf_nodes=31 and max_depth=12 Precyzja: 0.73\n",
            "max_leaf_nodes=31 and max_depth=13 Precyzja: 0.73\n",
            "max_leaf_nodes=31 and max_depth=14 Precyzja: 0.73\n",
            "max_leaf_nodes=32 and max_depth=2 Precyzja: 0.70\n",
            "max_leaf_nodes=32 and max_depth=3 Precyzja: 0.70\n",
            "max_leaf_nodes=32 and max_depth=4 Precyzja: 0.69\n",
            "max_leaf_nodes=32 and max_depth=5 Precyzja: 0.71\n",
            "max_leaf_nodes=32 and max_depth=6 Precyzja: 0.73\n",
            "max_leaf_nodes=32 and max_depth=7 Precyzja: 0.70\n",
            "max_leaf_nodes=32 and max_depth=8 Precyzja: 0.71\n",
            "max_leaf_nodes=32 and max_depth=9 Precyzja: 0.71\n",
            "max_leaf_nodes=32 and max_depth=10 Precyzja: 0.71\n",
            "max_leaf_nodes=32 and max_depth=11 Precyzja: 0.71\n",
            "max_leaf_nodes=32 and max_depth=12 Precyzja: 0.71\n",
            "max_leaf_nodes=32 and max_depth=13 Precyzja: 0.71\n",
            "max_leaf_nodes=32 and max_depth=14 Precyzja: 0.71\n",
            "max_leaf_nodes=33 and max_depth=2 Precyzja: 0.70\n",
            "max_leaf_nodes=33 and max_depth=3 Precyzja: 0.70\n",
            "max_leaf_nodes=33 and max_depth=4 Precyzja: 0.69\n",
            "max_leaf_nodes=33 and max_depth=5 Precyzja: 0.71\n",
            "max_leaf_nodes=33 and max_depth=6 Precyzja: 0.73\n",
            "max_leaf_nodes=33 and max_depth=7 Precyzja: 0.70\n",
            "max_leaf_nodes=33 and max_depth=8 Precyzja: 0.71\n",
            "max_leaf_nodes=33 and max_depth=9 Precyzja: 0.71\n",
            "max_leaf_nodes=33 and max_depth=10 Precyzja: 0.71\n",
            "max_leaf_nodes=33 and max_depth=11 Precyzja: 0.71\n",
            "max_leaf_nodes=33 and max_depth=12 Precyzja: 0.71\n",
            "max_leaf_nodes=33 and max_depth=13 Precyzja: 0.71\n",
            "max_leaf_nodes=33 and max_depth=14 Precyzja: 0.71\n",
            "max_leaf_nodes=34 and max_depth=2 Precyzja: 0.70\n",
            "max_leaf_nodes=34 and max_depth=3 Precyzja: 0.70\n",
            "max_leaf_nodes=34 and max_depth=4 Precyzja: 0.69\n",
            "max_leaf_nodes=34 and max_depth=5 Precyzja: 0.71\n",
            "max_leaf_nodes=34 and max_depth=6 Precyzja: 0.73\n",
            "max_leaf_nodes=34 and max_depth=7 Precyzja: 0.70\n",
            "max_leaf_nodes=34 and max_depth=8 Precyzja: 0.71\n",
            "max_leaf_nodes=34 and max_depth=9 Precyzja: 0.71\n",
            "max_leaf_nodes=34 and max_depth=10 Precyzja: 0.71\n",
            "max_leaf_nodes=34 and max_depth=11 Precyzja: 0.71\n",
            "max_leaf_nodes=34 and max_depth=12 Precyzja: 0.71\n",
            "max_leaf_nodes=34 and max_depth=13 Precyzja: 0.71\n",
            "max_leaf_nodes=34 and max_depth=14 Precyzja: 0.71\n"
          ],
          "name": "stdout"
        }
      ]
    },
    {
      "cell_type": "code",
      "metadata": {
        "id": "u55i5q2lEFgj"
      },
      "source": [
        "# przedstawienie w formie graficznej:\n",
        "# sprawdzenie modelu recall accurancy etp\n",
        "# cross validation\n",
        "# sex change into 0/1\n",
        "# przetestuj osobe konkretna"
      ],
      "execution_count": null,
      "outputs": []
    }
  ]
}